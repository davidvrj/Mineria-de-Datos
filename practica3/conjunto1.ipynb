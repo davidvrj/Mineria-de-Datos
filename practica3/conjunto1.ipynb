{
 "cells": [
  {
   "cell_type": "markdown",
   "metadata": {},
   "source": [
    "# Imports"
   ]
  },
  {
   "cell_type": "code",
   "execution_count": 1,
   "metadata": {},
   "outputs": [],
   "source": [
    "import pandas as pd\n",
    "import numpy as np\n",
    "import matplotlib.pyplot as plt\n",
    "from sklearn.decomposition import PCA\n",
    "from sklearn.preprocessing import StandardScaler\n",
    "%matplotlib notebook\n",
    "from mpl_toolkits.mplot3d import Axes3D  #para proyecciones en 3D\n",
    "import ipywidgets as widgets\n",
    "from IPython.display import display"
   ]
  },
  {
   "cell_type": "markdown",
   "metadata": {},
   "source": [
    "# Cargar DataFrame"
   ]
  },
  {
   "cell_type": "code",
   "execution_count": 2,
   "metadata": {},
   "outputs": [
    {
     "data": {
      "text/html": [
       "<div>\n",
       "<style scoped>\n",
       "    .dataframe tbody tr th:only-of-type {\n",
       "        vertical-align: middle;\n",
       "    }\n",
       "\n",
       "    .dataframe tbody tr th {\n",
       "        vertical-align: top;\n",
       "    }\n",
       "\n",
       "    .dataframe thead th {\n",
       "        text-align: right;\n",
       "    }\n",
       "</style>\n",
       "<table border=\"1\" class=\"dataframe\">\n",
       "  <thead>\n",
       "    <tr style=\"text-align: right;\">\n",
       "      <th></th>\n",
       "      <th>ambient</th>\n",
       "      <th>coolant</th>\n",
       "      <th>u_d</th>\n",
       "      <th>u_q</th>\n",
       "      <th>motor_speed</th>\n",
       "      <th>torque</th>\n",
       "      <th>i_d</th>\n",
       "      <th>i_q</th>\n",
       "      <th>pm</th>\n",
       "      <th>stator_yoke</th>\n",
       "      <th>stator_tooth</th>\n",
       "      <th>stator_winding</th>\n",
       "      <th>profile_id</th>\n",
       "    </tr>\n",
       "  </thead>\n",
       "  <tbody>\n",
       "    <tr>\n",
       "      <td>0</td>\n",
       "      <td>-0.752143</td>\n",
       "      <td>-1.118446</td>\n",
       "      <td>0.327935</td>\n",
       "      <td>-1.297858</td>\n",
       "      <td>-1.222428</td>\n",
       "      <td>-0.250182</td>\n",
       "      <td>1.029572</td>\n",
       "      <td>-0.245860</td>\n",
       "      <td>-2.522071</td>\n",
       "      <td>-1.831422</td>\n",
       "      <td>-2.066143</td>\n",
       "      <td>-2.018033</td>\n",
       "      <td>4</td>\n",
       "    </tr>\n",
       "    <tr>\n",
       "      <td>1</td>\n",
       "      <td>-0.771263</td>\n",
       "      <td>-1.117021</td>\n",
       "      <td>0.329665</td>\n",
       "      <td>-1.297686</td>\n",
       "      <td>-1.222429</td>\n",
       "      <td>-0.249133</td>\n",
       "      <td>1.029509</td>\n",
       "      <td>-0.245832</td>\n",
       "      <td>-2.522418</td>\n",
       "      <td>-1.830969</td>\n",
       "      <td>-2.064859</td>\n",
       "      <td>-2.017631</td>\n",
       "      <td>4</td>\n",
       "    </tr>\n",
       "    <tr>\n",
       "      <td>2</td>\n",
       "      <td>-0.782892</td>\n",
       "      <td>-1.116681</td>\n",
       "      <td>0.332771</td>\n",
       "      <td>-1.301822</td>\n",
       "      <td>-1.222428</td>\n",
       "      <td>-0.249431</td>\n",
       "      <td>1.029448</td>\n",
       "      <td>-0.245818</td>\n",
       "      <td>-2.522673</td>\n",
       "      <td>-1.830400</td>\n",
       "      <td>-2.064073</td>\n",
       "      <td>-2.017343</td>\n",
       "      <td>4</td>\n",
       "    </tr>\n",
       "    <tr>\n",
       "      <td>3</td>\n",
       "      <td>-0.780935</td>\n",
       "      <td>-1.116764</td>\n",
       "      <td>0.333700</td>\n",
       "      <td>-1.301852</td>\n",
       "      <td>-1.222430</td>\n",
       "      <td>-0.248636</td>\n",
       "      <td>1.032845</td>\n",
       "      <td>-0.246955</td>\n",
       "      <td>-2.521639</td>\n",
       "      <td>-1.830333</td>\n",
       "      <td>-2.063137</td>\n",
       "      <td>-2.017632</td>\n",
       "      <td>4</td>\n",
       "    </tr>\n",
       "    <tr>\n",
       "      <td>4</td>\n",
       "      <td>-0.774043</td>\n",
       "      <td>-1.116775</td>\n",
       "      <td>0.335206</td>\n",
       "      <td>-1.303118</td>\n",
       "      <td>-1.222429</td>\n",
       "      <td>-0.248701</td>\n",
       "      <td>1.031807</td>\n",
       "      <td>-0.246610</td>\n",
       "      <td>-2.521900</td>\n",
       "      <td>-1.830498</td>\n",
       "      <td>-2.062795</td>\n",
       "      <td>-2.018145</td>\n",
       "      <td>4</td>\n",
       "    </tr>\n",
       "  </tbody>\n",
       "</table>\n",
       "</div>"
      ],
      "text/plain": [
       "    ambient   coolant       u_d       u_q  motor_speed    torque       i_d  \\\n",
       "0 -0.752143 -1.118446  0.327935 -1.297858    -1.222428 -0.250182  1.029572   \n",
       "1 -0.771263 -1.117021  0.329665 -1.297686    -1.222429 -0.249133  1.029509   \n",
       "2 -0.782892 -1.116681  0.332771 -1.301822    -1.222428 -0.249431  1.029448   \n",
       "3 -0.780935 -1.116764  0.333700 -1.301852    -1.222430 -0.248636  1.032845   \n",
       "4 -0.774043 -1.116775  0.335206 -1.303118    -1.222429 -0.248701  1.031807   \n",
       "\n",
       "        i_q        pm  stator_yoke  stator_tooth  stator_winding  profile_id  \n",
       "0 -0.245860 -2.522071    -1.831422     -2.066143       -2.018033           4  \n",
       "1 -0.245832 -2.522418    -1.830969     -2.064859       -2.017631           4  \n",
       "2 -0.245818 -2.522673    -1.830400     -2.064073       -2.017343           4  \n",
       "3 -0.246955 -2.521639    -1.830333     -2.063137       -2.017632           4  \n",
       "4 -0.246610 -2.521900    -1.830498     -2.062795       -2.018145           4  "
      ]
     },
     "execution_count": 2,
     "metadata": {},
     "output_type": "execute_result"
    }
   ],
   "source": [
    "file = \"../pmsm_temperature_data.csv\"\n",
    "df = pd.read_csv(file)\n",
    "df.head()"
   ]
  },
  {
   "cell_type": "markdown",
   "metadata": {},
   "source": [
    "# Dividir dataset"
   ]
  },
  {
   "cell_type": "code",
   "execution_count": 3,
   "metadata": {},
   "outputs": [],
   "source": [
    "X = df.drop(\"pm\", 1)\n",
    "bins=np.linspace(min(df[\"pm\"]),max(df[\"pm\"]),4)\n",
    "names=[1,2,3]\n",
    "df[\"pm\"]=pd.cut(df[\"pm\"],bins,labels=names)\n",
    "y= df[\"pm\"]\n",
    "data = ['ambient', 'coolant', 'u_d', 'u_q', 'motor_speed', 'torque', 'i_d',\n",
    "       'i_q', 'stator_yoke', 'stator_tooth', 'stator_winding', 'profile_id']\n",
    "X_centrado = X[data]-X[data].mean(axis=0)"
   ]
  },
  {
   "cell_type": "code",
   "execution_count": 4,
   "metadata": {},
   "outputs": [],
   "source": [
    "def varianza(var1, var2=None): #si recibe una variable calcula la varianza, si recibe 2 variables calcula la covarianza entre dichas variables\n",
    "    if var2 is None:\n",
    "        var2 = var1\n",
    "    assert var1.shape == var2.shape  #devuelve booleano, si es true continua, si es false para el programa y arroja un error\n",
    "    var1_mean = var1.mean()\n",
    "    var2_mean = var2.mean()\n",
    "    return np.sum((var1 - var1_mean) * (var2 - var2_mean)) / (var1.shape[0] - 1)"
   ]
  },
  {
   "cell_type": "code",
   "execution_count": 5,
   "metadata": {},
   "outputs": [
    {
     "data": {
      "text/plain": [
       "array([[ 9.86300805e-01,  4.32494787e-01,  1.93005042e-01,\n",
       "         8.70310410e-02,  7.78404221e-02, -2.59916174e-01,\n",
       "         5.56047815e-03, -2.58230851e-01,  4.48982998e-01,\n",
       "         3.93856595e-01,  2.99311687e-01,  8.43019799e+00],\n",
       "       [ 4.32494787e-01,  1.00485264e+00,  1.78761322e-01,\n",
       "         2.79838454e-02, -3.34533704e-02, -1.89678869e-01,\n",
       "         1.08642049e-01, -1.86121348e-01,  8.77074028e-01,\n",
       "         6.90395090e-01,  5.09685941e-01,  1.10559849e+01],\n",
       "       [ 1.93005042e-01,  1.78761322e-01,  9.95760865e-01,\n",
       "        -2.74776268e-02, -2.33618909e-01, -8.17866564e-01,\n",
       "         3.57396729e-01, -7.93236133e-01,  4.13838061e-02,\n",
       "        -6.60889658e-02, -1.50144593e-01,  6.62486546e+00],\n",
       "       [ 8.70310410e-02,  2.79838454e-02, -2.74776268e-02,\n",
       "         1.00466581e+00,  7.19451323e-01, -3.72708527e-02,\n",
       "        -1.82095355e-01, -2.63547055e-02,  1.06545596e-01,\n",
       "         1.49304332e-01,  1.25529272e-01, -2.70494308e+00],\n",
       "       [ 7.78404221e-02, -3.34533704e-02, -2.33618909e-01,\n",
       "         7.19451323e-01,  1.00246010e+00,  2.44961919e-02,\n",
       "        -7.23074568e-01,  6.31731037e-03,  1.82979762e-01,\n",
       "         3.34185316e-01,  3.92985111e-01, -3.67361641e+00],\n",
       "       [-2.59916174e-01, -1.89678869e-01, -8.17866564e-01,\n",
       "        -3.72708527e-02,  2.44961919e-02,  9.95817511e-01,\n",
       "        -2.38318950e-01,  9.92397341e-01, -9.21105187e-02,\n",
       "        -1.10272119e-02,  8.06775099e-02, -5.67073538e+00],\n",
       "       [ 5.56047815e-03,  1.08642049e-01,  3.57396729e-01,\n",
       "        -1.82095355e-01, -7.23074568e-01, -2.38318950e-01,\n",
       "         9.97989653e-01, -2.03598142e-01, -1.79910589e-01,\n",
       "        -3.87165689e-01, -5.38487132e-01,  3.13934387e+00],\n",
       "       [-2.58230851e-01, -1.86121348e-01, -7.93236133e-01,\n",
       "        -2.63547055e-02,  6.31731037e-03,  9.92397341e-01,\n",
       "        -2.03598142e-01,  9.95828653e-01, -9.86503874e-02,\n",
       "        -2.51287851e-02,  6.07211650e-02, -5.64171443e+00],\n",
       "       [ 4.48982998e-01,  8.77074028e-01,  4.13838061e-02,\n",
       "         1.06545596e-01,  1.82979762e-01, -9.21105187e-02,\n",
       "        -1.79910589e-01, -9.86503874e-02,  1.00209941e+00,\n",
       "         9.50511567e-01,  8.44628928e-01,  8.79477565e+00],\n",
       "       [ 3.93856595e-01,  6.90395090e-01, -6.60889658e-02,\n",
       "         1.49304332e-01,  3.34185316e-01, -1.10272119e-02,\n",
       "        -3.87165689e-01, -2.51287851e-02,  9.50511567e-01,\n",
       "         9.99195136e-01,  9.63644642e-01,  6.19992529e+00],\n",
       "       [ 2.99311687e-01,  5.09685941e-01, -1.50144593e-01,\n",
       "         1.25529272e-01,  3.92985111e-01,  8.06775099e-02,\n",
       "        -5.38487132e-01,  6.07211650e-02,  8.44628928e-01,\n",
       "         9.63644642e-01,  9.96688192e-01,  4.00861457e+00],\n",
       "       [ 8.43019799e+00,  1.10559849e+01,  6.62486546e+00,\n",
       "        -2.70494308e+00, -3.67361641e+00, -5.67073538e+00,\n",
       "         3.13934387e+00, -5.64171443e+00,  8.79477565e+00,\n",
       "         6.19992529e+00,  4.00861457e+00,  4.87222866e+02]])"
      ]
     },
     "execution_count": 5,
     "metadata": {},
     "output_type": "execute_result"
    }
   ],
   "source": [
    "import numpy as np\n",
    "cov_mat = np.cov(m=X_centrado.T)\n",
    "cov_mat"
   ]
  },
  {
   "cell_type": "code",
   "execution_count": 6,
   "metadata": {},
   "outputs": [
    {
     "name": "stdout",
     "output_type": "stream",
     "text": [
      "Vectores propios: \n",
      " [[ 1.73546294e-02 -1.58627930e-01 -2.06796407e-01 -8.04098677e-02\n",
      "  -2.90104693e-01 -9.13652127e-01  5.77494258e-02 -4.96816826e-02\n",
      "  -3.40772944e-03 -2.30950586e-02  5.20506440e-03  3.03321233e-03]\n",
      " [ 2.27622652e-02 -2.56433161e-01 -1.78559828e-01 -3.56611710e-01\n",
      "  -2.82859082e-01  2.02683765e-01 -5.57060786e-01 -4.07103196e-01\n",
      "  -9.73004786e-02 -3.84051382e-01 -1.41569115e-01 -2.28916505e-02]\n",
      " [ 1.36446355e-02  1.79126697e-01 -4.85690893e-01 -1.13291561e-03\n",
      "   8.49688237e-02  1.17967350e-01  5.01714024e-01 -6.43245713e-01\n",
      "   2.06775400e-01  1.03728153e-02 -1.00643916e-02  4.74084804e-02]\n",
      " [-5.54519443e-03 -1.92946096e-01 -1.14624835e-01  5.07728426e-01\n",
      "  -6.23310864e-01  2.26973583e-01  2.42006606e-01  3.99166168e-02\n",
      "  -4.37377099e-01  1.13884770e-02 -1.33642626e-02  3.61175157e-03]\n",
      " [-7.53476056e-03 -3.27944491e-01 -4.82566198e-02  5.68400877e-01\n",
      "  -1.91718047e-02  8.73689980e-03 -2.52841227e-01 -2.87057340e-02\n",
      "   7.03562141e-01 -6.69133243e-02  4.56787641e-02  1.50716423e-02]\n",
      " [-1.16985693e-02 -1.18548811e-01  5.59855859e-01 -9.59195228e-02\n",
      "  -1.60441286e-01 -1.93163557e-02  1.78656263e-01 -2.56789584e-01\n",
      "   9.51216251e-02 -2.32733416e-02 -4.30237160e-02  7.26468096e-01]\n",
      " [ 6.45064776e-03  3.32137938e-01 -1.17787986e-01 -3.47957037e-01\n",
      "  -5.50840570e-01  1.63880195e-01  1.50795154e-01  4.06448516e-01\n",
      "   4.66878724e-01 -1.30851786e-01  2.76259245e-02  2.47369929e-02]\n",
      " [-1.16386021e-02 -1.08481396e-01  5.54868922e-01 -1.02210418e-01\n",
      "  -1.95398817e-01 -8.71329431e-03  2.24997521e-01 -3.03452424e-01\n",
      "   1.48953330e-01  3.42335465e-02  3.24089296e-02 -6.81466502e-01]\n",
      " [ 1.81303697e-02 -4.06098273e-01 -1.52404418e-01 -2.95776440e-01\n",
      "  -8.21909176e-02  1.42330524e-01 -5.04979686e-02 -4.00574847e-03\n",
      "   3.73476969e-02  6.10387425e-01  5.63240418e-01  5.70774060e-02]\n",
      " [ 1.27986972e-02 -4.60456389e-01 -1.10176597e-01 -1.97832152e-01\n",
      "   8.11547996e-02  8.82895478e-02  2.14076951e-01  1.94875164e-01\n",
      "   9.80714381e-02  2.64989463e-01 -7.46806222e-01 -2.82186510e-02]\n",
      " [ 8.28905251e-03 -4.67888508e-01 -4.92737192e-02 -1.32273796e-01\n",
      "   2.42933445e-01  5.71100976e-02  3.98079155e-01  2.33173919e-01\n",
      "  -3.52481557e-02 -6.20989873e-01  3.14548526e-01 -1.26663562e-02]\n",
      " [ 9.99015440e-01  1.49620122e-02  3.16612474e-02  2.55754250e-02\n",
      "   4.55742025e-03  5.39428257e-03  2.88364982e-03  5.40402419e-03\n",
      "   5.23475724e-04  2.19937018e-04 -2.57734748e-05 -2.05989807e-04]]\n",
      "\n",
      "Valores propios: \n",
      " [4.88179126e+02 3.73220579e+00 2.60050889e+00 1.62465332e+00\n",
      " 8.70429698e-01 6.57631162e-01 2.71006792e-01 2.07594029e-01\n",
      " 4.94915710e-02 8.95988265e-03 9.03549035e-04 2.01417686e-03]\n"
     ]
    }
   ],
   "source": [
    "val_propios, vec_propios = np.linalg.eig(cov_mat)\n",
    "print('Vectores propios: \\n', vec_propios)\n",
    "print('\\nValores propios: \\n', val_propios)"
   ]
  },
  {
   "cell_type": "code",
   "execution_count": 7,
   "metadata": {},
   "outputs": [
    {
     "name": "stdout",
     "output_type": "stream",
     "text": [
      "Vectores propios(ordenados): \n",
      " [[ 1.73546294e-02 -1.58627930e-01 -2.06796407e-01 -8.04098677e-02\n",
      "  -2.90104693e-01 -9.13652127e-01  5.77494258e-02 -4.96816826e-02\n",
      "  -3.40772944e-03 -2.30950586e-02  5.20506440e-03  3.03321233e-03]\n",
      " [ 2.27622652e-02 -2.56433161e-01 -1.78559828e-01 -3.56611710e-01\n",
      "  -2.82859082e-01  2.02683765e-01 -5.57060786e-01 -4.07103196e-01\n",
      "  -9.73004786e-02 -3.84051382e-01 -1.41569115e-01 -2.28916505e-02]\n",
      " [ 1.36446355e-02  1.79126697e-01 -4.85690893e-01 -1.13291561e-03\n",
      "   8.49688237e-02  1.17967350e-01  5.01714024e-01 -6.43245713e-01\n",
      "   2.06775400e-01  1.03728153e-02 -1.00643916e-02  4.74084804e-02]\n",
      " [-5.54519443e-03 -1.92946096e-01 -1.14624835e-01  5.07728426e-01\n",
      "  -6.23310864e-01  2.26973583e-01  2.42006606e-01  3.99166168e-02\n",
      "  -4.37377099e-01  1.13884770e-02 -1.33642626e-02  3.61175157e-03]\n",
      " [-7.53476056e-03 -3.27944491e-01 -4.82566198e-02  5.68400877e-01\n",
      "  -1.91718047e-02  8.73689980e-03 -2.52841227e-01 -2.87057340e-02\n",
      "   7.03562141e-01 -6.69133243e-02  4.56787641e-02  1.50716423e-02]\n",
      " [-1.16985693e-02 -1.18548811e-01  5.59855859e-01 -9.59195228e-02\n",
      "  -1.60441286e-01 -1.93163557e-02  1.78656263e-01 -2.56789584e-01\n",
      "   9.51216251e-02 -2.32733416e-02 -4.30237160e-02  7.26468096e-01]\n",
      " [ 6.45064776e-03  3.32137938e-01 -1.17787986e-01 -3.47957037e-01\n",
      "  -5.50840570e-01  1.63880195e-01  1.50795154e-01  4.06448516e-01\n",
      "   4.66878724e-01 -1.30851786e-01  2.76259245e-02  2.47369929e-02]\n",
      " [-1.16386021e-02 -1.08481396e-01  5.54868922e-01 -1.02210418e-01\n",
      "  -1.95398817e-01 -8.71329431e-03  2.24997521e-01 -3.03452424e-01\n",
      "   1.48953330e-01  3.42335465e-02  3.24089296e-02 -6.81466502e-01]\n",
      " [ 1.81303697e-02 -4.06098273e-01 -1.52404418e-01 -2.95776440e-01\n",
      "  -8.21909176e-02  1.42330524e-01 -5.04979686e-02 -4.00574847e-03\n",
      "   3.73476969e-02  6.10387425e-01  5.63240418e-01  5.70774060e-02]\n",
      " [ 1.27986972e-02 -4.60456389e-01 -1.10176597e-01 -1.97832152e-01\n",
      "   8.11547996e-02  8.82895478e-02  2.14076951e-01  1.94875164e-01\n",
      "   9.80714381e-02  2.64989463e-01 -7.46806222e-01 -2.82186510e-02]\n",
      " [ 9.99015440e-01  1.49620122e-02  3.16612474e-02  2.55754250e-02\n",
      "   4.55742025e-03  5.39428257e-03  2.88364982e-03  5.40402419e-03\n",
      "   5.23475724e-04  2.19937018e-04 -2.57734748e-05 -2.05989807e-04]\n",
      " [ 8.28905251e-03 -4.67888508e-01 -4.92737192e-02 -1.32273796e-01\n",
      "   2.42933445e-01  5.71100976e-02  3.98079155e-01  2.33173919e-01\n",
      "  -3.52481557e-02 -6.20989873e-01  3.14548526e-01 -1.26663562e-02]]\n",
      "\n",
      "Valores propios(ordenados): \n",
      " [4.88179126e+02 3.73220579e+00 2.60050889e+00 1.62465332e+00\n",
      " 8.70429698e-01 6.57631162e-01 2.71006792e-01 2.07594029e-01\n",
      " 4.94915710e-02 8.95988265e-03 2.01417686e-03 9.03549035e-04]\n"
     ]
    }
   ],
   "source": [
    "orden_componentes = np.argsort(val_propios)[::-1]\n",
    "val_propios_ordenados = val_propios[orden_componentes]\n",
    "vec_propios_ordenados = vec_propios[orden_componentes]\n",
    "print('Vectores propios(ordenados): \\n', vec_propios_ordenados)\n",
    "print('\\nValores propios(ordenados): \\n', val_propios_ordenados)\n"
   ]
  },
  {
   "cell_type": "markdown",
   "metadata": {},
   "source": [
    "# PCA"
   ]
  },
  {
   "cell_type": "code",
   "execution_count": 8,
   "metadata": {},
   "outputs": [],
   "source": [
    "pca = PCA(n_components = 2)\n",
    "X_pca = pca.fit_transform(X_centrado)"
   ]
  },
  {
   "cell_type": "code",
   "execution_count": 9,
   "metadata": {},
   "outputs": [
    {
     "data": {
      "text/plain": [
       "array([[-0.01735463, -0.02276227, -0.01364464,  0.00554519,  0.00753476,\n",
       "         0.01169857, -0.00645065,  0.0116386 , -0.01813037, -0.0127987 ,\n",
       "        -0.00828905, -0.99901544],\n",
       "       [ 0.15862793,  0.25643316, -0.1791267 ,  0.1929461 ,  0.32794449,\n",
       "         0.11854881, -0.33213794,  0.1084814 ,  0.40609827,  0.46045639,\n",
       "         0.46788851, -0.01496201]])"
      ]
     },
     "execution_count": 9,
     "metadata": {},
     "output_type": "execute_result"
    }
   ],
   "source": [
    "pca.components_"
   ]
  },
  {
   "cell_type": "code",
   "execution_count": 10,
   "metadata": {},
   "outputs": [
    {
     "data": {
      "text/plain": [
       "array([0.97987694, 0.00749131])"
      ]
     },
     "execution_count": 10,
     "metadata": {},
     "output_type": "execute_result"
    }
   ],
   "source": [
    "pca.explained_variance_ratio_"
   ]
  },
  {
   "cell_type": "code",
   "execution_count": 11,
   "metadata": {},
   "outputs": [
    {
     "data": {
      "image/png": "[encoded data removed]",
      "text/plain": [
       "<Figure size 360x360 with 1 Axes>"
      ]
     },
     "metadata": {
      "needs_background": "light"
     },
     "output_type": "display_data"
    }
   ],
   "source": [
    "fig = plt.figure(figsize=(5,5))\n",
    "plt.xlabel(\"PC1\", size = 10)\n",
    "plt.ylabel(\"PC2\", size = 10)\n",
    "plt.scatter(X_pca[:,0], X_pca[:,1],c=y, cmap = plt.cm.prism)\n",
    "plt.show()\n"
   ]
  }
 ],
 "metadata": {
  "kernelspec": {
   "display_name": "Python 3",
   "language": "python",
   "name": "python3"
  },
  "language_info": {
   "codemirror_mode": {
    "name": "ipython",
    "version": 3
   },
   "file_extension": ".py",
   "mimetype": "text/x-python",
   "name": "python",
   "nbconvert_exporter": "python",
   "pygments_lexer": "ipython3",
   "version": "3.7.4"
  }
 },
 "nbformat": 4,
 "nbformat_minor": 2
}
