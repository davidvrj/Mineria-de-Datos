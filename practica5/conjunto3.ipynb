{
 "cells": [
  {
   "cell_type": "markdown",
   "metadata": {},
   "source": [
    "# Práctica 5: primer modelo de clasificación n-dimensional"
   ]
  },
  {
   "cell_type": "markdown",
   "metadata": {},
   "source": [
    "Hay muchas técnicas diferentes para encontrar las características más relevantes, ¿cómo saber cuál usar?. Un enfoque sólido consiste en evaluar los modelos utilizando diferentes métodos, y seleccionar el método que resulte en un modelo con el mejor rendimiento. \n",
    "\n",
    "En esta sección, evaluaremos un modelo de Regresión Logística con todas las características en comparación con un modelo construido a partir de características seleccionadas por chi-cuadrado y aquellas características seleccionadas a través de información mutua. La regresión logística es un buen modelo para probar los métodos de selección de características, ya que puede tener un mejor rendimiento si se eliminan del modelo las características irrelevantes."
   ]
  },
  {
   "cell_type": "markdown",
   "metadata": {},
   "source": [
    "### Buscando el modelo de clasificación con todas las características"
   ]
  },
  {
   "cell_type": "markdown",
   "metadata": {},
   "source": [
    "Como primer paso, evaluaremos un modelo de `LogisticRegression` utilizando todas las características disponibles. El modelo se genera dado el conjunto de datos de entrenamiento (train) y se evalúa con el conjunto de datos de prueba (test)."
   ]
  },
  {
   "cell_type": "markdown",
   "metadata": {},
   "source": [
    "Nota: los resultados pueden variar dada la naturaleza estocástica del algoritmo de aprendizaje. Intenta ejecutar el ejemplo varias veces."
   ]
  },
  {
   "cell_type": "markdown",
   "metadata": {},
   "source": [
    "### Imports"
   ]
  },
  {
   "cell_type": "code",
   "execution_count": 1,
   "metadata": {},
   "outputs": [],
   "source": [
    "import pandas as pd\n",
    "import numpy as np\n",
    "from pandas import read_csv\n",
    "import matplotlib.pyplot as plt\n",
    "from sklearn.preprocessing import LabelEncoder\n",
    "from sklearn.preprocessing import OrdinalEncoder\n",
    "from sklearn.feature_selection import SelectKBest\n",
    "from sklearn.feature_selection import chi2\n",
    "from sklearn.feature_selection import mutual_info_classif\n",
    "from sklearn.model_selection import train_test_split\n",
    "from sklearn.linear_model import LogisticRegression\n",
    "from sklearn.metrics import accuracy_score"
   ]
  },
  {
   "cell_type": "markdown",
   "metadata": {},
   "source": [
    "**Nota:** antes de implementar los siguientes métodos, debemos asegurarnos de que el `DataFrame` sólo contiene características categóricas."
   ]
  },
  {
   "cell_type": "code",
   "execution_count": 2,
   "metadata": {},
   "outputs": [],
   "source": [
    "file = \"../heart.csv\"\n",
    "df = pd.read_csv(file)\n",
    "df.columns\n",
    "names = ['age', 'sex', 'cp', 'trestbps', 'chol', 'fbs', 'restecg', 'thalach',\n",
    "       'exang', 'oldpeak', 'slope', 'ca', 'thal', 'target']\n",
    "for i in names:\n",
    "    if(len(df[i].unique()) == 2):\n",
    "        x =(df[i].unique())\n",
    "        df[i].replace({\n",
    "            x[0] : \"a\",\n",
    "            x[1] : \"b\"\n",
    "        }, inplace=True)\n",
    "    elif(len(df[i].unique()) == 3):\n",
    "        x =(df[i].unique())\n",
    "        df[i].replace({\n",
    "            x[0] : \"a\",\n",
    "            x[1] : \"b\",\n",
    "            x[2] : \"c\"\n",
    "        }, inplace=True)\n",
    "    elif(len(df[i].unique()) == 4):\n",
    "        x =(df[i].unique())\n",
    "        df[i].replace({\n",
    "            x[0] : \"a\",\n",
    "            x[1] : \"b\",\n",
    "            x[2] : \"c\",\n",
    "            x[3] : \"d\"\n",
    "        }, inplace=True)\n",
    "    elif(len(df[i].unique()) == 5):\n",
    "        x =(df[i].unique())\n",
    "        df[i].replace({\n",
    "            x[0] : \"a\",\n",
    "            x[1] : \"b\",\n",
    "            x[2] : \"c\", \n",
    "            x[3] : \"d\", \n",
    "            x[4] : \"e\"\n",
    "        }, inplace=True)\n",
    "    else:\n",
    "        bins=np.linspace(min(df[i]),max(df[i]),5)\n",
    "        names=[\"a\",\"b\",\"c\", \"d\"]\n",
    "        df[i]=pd.cut(df[i],bins,labels=names)\n",
    "df = df.dropna()\n",
    "df.to_csv(\"Archivo.csv\", header = True, index = False)"
   ]
  },
  {
   "cell_type": "code",
   "execution_count": 3,
   "metadata": {},
   "outputs": [],
   "source": [
    "#Cargamos el dataset\n",
    "def load_dataset(filename):\n",
    "    #Como un Dataframe\n",
    "    data = read_csv(filename, header=None)\n",
    "    #Creamos una matriz con los datos\n",
    "    dataset = data.values\n",
    "    #Dividimos en X y y\n",
    "    X = dataset[:, :-1]\n",
    "    y = dataset[:,-1]\n",
    "    #Forzamos el tipo string\n",
    "    X = X.astype(str)\n",
    "    return X, y\n",
    " \n",
    "#Preparamos los datos de entrada, X\n",
    "def prepare_inputs(X_train, X_test):\n",
    "    oe = OrdinalEncoder()\n",
    "    oe.fit(X_train)\n",
    "    X_train_enc = oe.transform(X_train)\n",
    "    oe.fit(X_test)\n",
    "    X_test_enc = oe.transform(X_test)\n",
    "    return X_train_enc, X_test_enc\n",
    " \n",
    "#Preparamos los datos de salida, y\n",
    "def prepare_targets(y_train, y_test):\n",
    "    le = LabelEncoder()\n",
    "    le.fit(y_train)\n",
    "    y_train_enc = le.transform(y_train)\n",
    "    le.fit(y_test)\n",
    "    y_test_enc = le.transform(y_test)\n",
    "    return y_train_enc, y_test_enc"
   ]
  },
  {
   "cell_type": "code",
   "execution_count": 4,
   "metadata": {},
   "outputs": [
    {
     "name": "stderr",
     "output_type": "stream",
     "text": [
      "C:\\tools\\Anaconda3\\lib\\site-packages\\sklearn\\linear_model\\logistic.py:469: FutureWarning: Default multi_class will be changed to 'auto' in 0.22. Specify the multi_class option to silence this warning.\n",
      "  \"this warning.\", FutureWarning)\n"
     ]
    },
    {
     "name": "stdout",
     "output_type": "stream",
     "text": [
      "Accuracy/exactitud: 74.63 %\n"
     ]
    }
   ],
   "source": [
    "#Cargamos el dataset\n",
    "file = \"Archivo.csv\"\n",
    "X, y = load_dataset(file)\n",
    "\n",
    "#Dividimos los datos de entrada, X, y salida, y\n",
    "X_train, X_test, y_train, y_test = train_test_split(X, y, test_size=0.33, random_state=1)\n",
    "#Preparamos a X\n",
    "X_train_enc, X_test_enc = prepare_inputs(X_train, X_test)\n",
    "#Preparamos ay\n",
    "y_train_enc, y_test_enc = prepare_targets(y_train, y_test)\n",
    "\n",
    "#Buscamos el modelo\n",
    "model = LogisticRegression(solver='lbfgs')\n",
    "model.fit(X_train_enc, y_train_enc)\n",
    "\n",
    "#Encontramos el modelo\n",
    "yhat = model.predict(X_test_enc)\n",
    "\n",
    "#Evaluamos el desempeño del modelo encontrado\n",
    "accuracy = accuracy_score(y_test_enc, yhat)\n",
    "print('Accuracy/exactitud: %.2f' % (accuracy*100), '%')"
   ]
  },
  {
   "cell_type": "markdown",
   "metadata": {},
   "source": [
    "### Buscando el modelo de clasificación con selección de características vía Chi-cuadrada"
   ]
  },
  {
   "cell_type": "code",
   "execution_count": 5,
   "metadata": {},
   "outputs": [],
   "source": [
    "#Selección de características\n",
    "def select_features(X_train, y_train, X_test):\n",
    "    fs = SelectKBest(score_func=chi2, k=4)\n",
    "    fs.fit(X_train, y_train)\n",
    "    X_train_fs = fs.transform(X_train)\n",
    "    X_test_fs = fs.transform(X_test)\n",
    "    \n",
    "    for i in range(len(fs.scores_)):\n",
    "        print('Característica %d: %f' % (i, fs.scores_[i]))\n",
    "    \n",
    "    plt.bar([i for i in range(len(fs.scores_))], fs.scores_)\n",
    "    return X_train_fs, X_test_fs"
   ]
  },
  {
   "cell_type": "code",
   "execution_count": 6,
   "metadata": {},
   "outputs": [
    {
     "name": "stdout",
     "output_type": "stream",
     "text": [
      "Característica 0: 2.165528\n",
      "Característica 1: 15.040459\n",
      "Característica 2: 25.838231\n",
      "Característica 3: 12.263018\n",
      "Característica 4: 10.269817\n",
      "Característica 5: 1.631751\n",
      "Característica 6: 13.994354\n",
      "Característica 7: 10.823156\n",
      "Característica 8: 19.213083\n",
      "Característica 9: 29.545917\n",
      "Característica 10: 2.919848\n",
      "Característica 11: 49.437112\n",
      "Característica 12: 6.514013\n",
      "Accuracy/exactitud: 76.12 %\n"
     ]
    },
    {
     "name": "stderr",
     "output_type": "stream",
     "text": [
      "C:\\tools\\Anaconda3\\lib\\site-packages\\sklearn\\linear_model\\logistic.py:469: FutureWarning: Default multi_class will be changed to 'auto' in 0.22. Specify the multi_class option to silence this warning.\n",
      "  \"this warning.\", FutureWarning)\n"
     ]
    },
    {
     "data": {
      "image/png": "[encoded data removed]",
      "text/plain": [
       "<Figure size 432x288 with 1 Axes>"
      ]
     },
     "metadata": {
      "needs_background": "light"
     },
     "output_type": "display_data"
    }
   ],
   "source": [
    "#Cargamos el dataset\n",
    "file = \"Archivo.csv\"\n",
    "X, y = load_dataset(file)\n",
    "\n",
    "#Dividimos los datos de entrada, X, y salida, y\n",
    "X_train, X_test, y_train, y_test = train_test_split(X, y, test_size=0.33, random_state=1)\n",
    "#Preparamos a X\n",
    "X_train_enc, X_test_enc = prepare_inputs(X_train, X_test)\n",
    "#Preparamos a y\n",
    "y_train_enc, y_test_enc = prepare_targets(y_train, y_test)\n",
    "#Selección de características\n",
    "X_train_fs, X_test_fs = select_features(X_train_enc, y_train_enc, X_test_enc)\n",
    "\n",
    "#Buscamos el modelo\n",
    "model = LogisticRegression(solver='lbfgs')\n",
    "model.fit(X_train_fs, y_train_enc)\n",
    "\n",
    "#Encontramos el modelo\n",
    "yhat = model.predict(X_test_fs)\n",
    "\n",
    "#Evaluamos el desempeño del modelo encontrado\n",
    "accuracy = accuracy_score(y_test_enc, yhat)\n",
    "print('Accuracy/exactitud: %.2f' % (accuracy*100), '%')"
   ]
  },
  {
   "cell_type": "markdown",
   "metadata": {},
   "source": [
    "### Buscando el modelo de clasificación con selección de características vía Información Mutua"
   ]
  },
  {
   "cell_type": "code",
   "execution_count": 7,
   "metadata": {},
   "outputs": [],
   "source": [
    "#Selección de características\n",
    "def select_features(X_train, y_train, X_test):\n",
    "    fs = SelectKBest(score_func=mutual_info_classif, k=4)\n",
    "    fs.fit(X_train, y_train)\n",
    "    X_train_fs = fs.transform(X_train)\n",
    "    X_test_fs = fs.transform(X_test)\n",
    "    \n",
    "    for i in range(len(fs.scores_)):\n",
    "        print('Característica %d: %f' % (i, fs.scores_[i]))\n",
    "    \n",
    "    plt.bar([i for i in range(len(fs.scores_))], fs.scores_)\n",
    "    return X_train_fs, X_test_fs"
   ]
  },
  {
   "cell_type": "code",
   "execution_count": 8,
   "metadata": {},
   "outputs": [
    {
     "name": "stdout",
     "output_type": "stream",
     "text": [
      "Característica 0: 0.143674\n",
      "Característica 1: 0.097510\n",
      "Característica 2: 0.078932\n",
      "Característica 3: 0.110144\n",
      "Característica 4: 0.038610\n",
      "Característica 5: 0.000000\n",
      "Característica 6: 0.000000\n",
      "Característica 7: 0.069024\n",
      "Característica 8: 0.063769\n",
      "Característica 9: 0.000000\n",
      "Característica 10: 0.044465\n",
      "Característica 11: 0.207005\n",
      "Característica 12: 0.173312\n",
      "Accuracy/exactitud: 61.19 %\n"
     ]
    },
    {
     "name": "stderr",
     "output_type": "stream",
     "text": [
      "C:\\tools\\Anaconda3\\lib\\site-packages\\sklearn\\linear_model\\logistic.py:469: FutureWarning: Default multi_class will be changed to 'auto' in 0.22. Specify the multi_class option to silence this warning.\n",
      "  \"this warning.\", FutureWarning)\n"
     ]
    },
    {
     "data": {
      "image/png": "[encoded data removed]",
      "text/plain": [
       "<Figure size 432x288 with 1 Axes>"
      ]
     },
     "metadata": {
      "needs_background": "light"
     },
     "output_type": "display_data"
    }
   ],
   "source": [
    "#Cargamos el dataset\n",
    "file = \"Archivo.csv\"\n",
    "X, y = load_dataset(file)\n",
    "\n",
    "#Dividimos los datos de entrada, X, y salida, y\n",
    "X_train, X_test, y_train, y_test = train_test_split(X, y, test_size=0.33, random_state=1)\n",
    "#Preparamos a X\n",
    "X_train_enc, X_test_enc = prepare_inputs(X_train, X_test)\n",
    "#Preparamos a y\n",
    "y_train_enc, y_test_enc = prepare_targets(y_train, y_test)\n",
    "#Selección de características\n",
    "X_train_fs, X_test_fs = select_features(X_train_enc, y_train_enc, X_test_enc)\n",
    "\n",
    "#Buscamos el modelo\n",
    "model = LogisticRegression(solver='lbfgs')\n",
    "model.fit(X_train_fs, y_train_enc)\n",
    "\n",
    "#Encontramos el modelo\n",
    "yhat = model.predict(X_test_fs)\n",
    "\n",
    "#Evaluamos el desempeño del modelo encontrado\n",
    "accuracy = accuracy_score(y_test_enc, yhat)\n",
    "print('Accuracy/exactitud: %.2f' % (accuracy*100), '%')"
   ]
  }
 ],
 "metadata": {
  "kernelspec": {
   "display_name": "Python 3",
   "language": "python",
   "name": "python3"
  },
  "language_info": {
   "codemirror_mode": {
    "name": "ipython",
    "version": 3
   },
   "file_extension": ".py",
   "mimetype": "text/x-python",
   "name": "python",
   "nbconvert_exporter": "python",
   "pygments_lexer": "ipython3",
   "version": "3.7.4"
  }
 },
 "nbformat": 4,
 "nbformat_minor": 2
}
